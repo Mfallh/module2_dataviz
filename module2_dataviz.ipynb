{
 "cells": [
  {
   "cell_type": "code",
   "execution_count": null,
   "id": "c3ab4818-aac1-47b9-9150-35c8b4249dce",
   "metadata": {},
   "outputs": [],
   "source": [
    "import pandas as pd\n",
    "import numpy as np\n",
    "import xlrd"
   ]
  },
  {
   "cell_type": "code",
   "execution_count": 100,
   "id": "3face7de-7392-4ad5-8d3e-bee2d3044fec",
   "metadata": {},
   "outputs": [],
   "source": [
    "df = pd.read_excel('/Users/marius.fall/Downloads/DataPanelWHR2021C2.xls')\n",
    "region = pd.read_csv('/Users/marius.fall/Downloads/ISO-3166-Countries-with-Regional-Codes-master/all/all.csv')\n",
    "region_cleaned = region[['name','region','sub-region']]"
   ]
  },
  {
   "cell_type": "code",
   "execution_count": 101,
   "id": "ed4d457b-17b3-4be2-b2e9-80b58f62fa00",
   "metadata": {},
   "outputs": [
    {
     "data": {
      "text/html": [
       "<div>\n",
       "<style scoped>\n",
       "    .dataframe tbody tr th:only-of-type {\n",
       "        vertical-align: middle;\n",
       "    }\n",
       "\n",
       "    .dataframe tbody tr th {\n",
       "        vertical-align: top;\n",
       "    }\n",
       "\n",
       "    .dataframe thead th {\n",
       "        text-align: right;\n",
       "    }\n",
       "</style>\n",
       "<table border=\"1\" class=\"dataframe\">\n",
       "  <thead>\n",
       "    <tr style=\"text-align: right;\">\n",
       "      <th></th>\n",
       "      <th>Country name</th>\n",
       "      <th>year</th>\n",
       "      <th>Life Ladder</th>\n",
       "      <th>Log GDP per capita</th>\n",
       "      <th>Social support</th>\n",
       "      <th>Healthy life expectancy at birth</th>\n",
       "      <th>Freedom to make life choices</th>\n",
       "      <th>Generosity</th>\n",
       "      <th>Perceptions of corruption</th>\n",
       "      <th>Positive affect</th>\n",
       "      <th>Negative affect</th>\n",
       "    </tr>\n",
       "  </thead>\n",
       "  <tbody>\n",
       "    <tr>\n",
       "      <th>0</th>\n",
       "      <td>Afghanistan</td>\n",
       "      <td>2008</td>\n",
       "      <td>3.723590</td>\n",
       "      <td>7.370100</td>\n",
       "      <td>0.450662</td>\n",
       "      <td>50.799999</td>\n",
       "      <td>0.718114</td>\n",
       "      <td>0.167640</td>\n",
       "      <td>0.881686</td>\n",
       "      <td>0.517637</td>\n",
       "      <td>0.258195</td>\n",
       "    </tr>\n",
       "    <tr>\n",
       "      <th>1</th>\n",
       "      <td>Afghanistan</td>\n",
       "      <td>2009</td>\n",
       "      <td>4.401778</td>\n",
       "      <td>7.539972</td>\n",
       "      <td>0.552308</td>\n",
       "      <td>51.200001</td>\n",
       "      <td>0.678896</td>\n",
       "      <td>0.190099</td>\n",
       "      <td>0.850035</td>\n",
       "      <td>0.583926</td>\n",
       "      <td>0.237092</td>\n",
       "    </tr>\n",
       "    <tr>\n",
       "      <th>2</th>\n",
       "      <td>Afghanistan</td>\n",
       "      <td>2010</td>\n",
       "      <td>4.758381</td>\n",
       "      <td>7.646709</td>\n",
       "      <td>0.539075</td>\n",
       "      <td>51.599998</td>\n",
       "      <td>0.600127</td>\n",
       "      <td>0.120590</td>\n",
       "      <td>0.706766</td>\n",
       "      <td>0.618265</td>\n",
       "      <td>0.275324</td>\n",
       "    </tr>\n",
       "    <tr>\n",
       "      <th>3</th>\n",
       "      <td>Afghanistan</td>\n",
       "      <td>2011</td>\n",
       "      <td>3.831719</td>\n",
       "      <td>7.619532</td>\n",
       "      <td>0.521104</td>\n",
       "      <td>51.919998</td>\n",
       "      <td>0.495901</td>\n",
       "      <td>0.162427</td>\n",
       "      <td>0.731109</td>\n",
       "      <td>0.611387</td>\n",
       "      <td>0.267175</td>\n",
       "    </tr>\n",
       "    <tr>\n",
       "      <th>4</th>\n",
       "      <td>Afghanistan</td>\n",
       "      <td>2012</td>\n",
       "      <td>3.782938</td>\n",
       "      <td>7.705479</td>\n",
       "      <td>0.520637</td>\n",
       "      <td>52.240002</td>\n",
       "      <td>0.530935</td>\n",
       "      <td>0.236032</td>\n",
       "      <td>0.775620</td>\n",
       "      <td>0.710385</td>\n",
       "      <td>0.267919</td>\n",
       "    </tr>\n",
       "  </tbody>\n",
       "</table>\n",
       "</div>"
      ],
      "text/plain": [
       "  Country name  year  Life Ladder  Log GDP per capita  Social support  \\\n",
       "0  Afghanistan  2008     3.723590            7.370100        0.450662   \n",
       "1  Afghanistan  2009     4.401778            7.539972        0.552308   \n",
       "2  Afghanistan  2010     4.758381            7.646709        0.539075   \n",
       "3  Afghanistan  2011     3.831719            7.619532        0.521104   \n",
       "4  Afghanistan  2012     3.782938            7.705479        0.520637   \n",
       "\n",
       "   Healthy life expectancy at birth  Freedom to make life choices  Generosity  \\\n",
       "0                         50.799999                      0.718114    0.167640   \n",
       "1                         51.200001                      0.678896    0.190099   \n",
       "2                         51.599998                      0.600127    0.120590   \n",
       "3                         51.919998                      0.495901    0.162427   \n",
       "4                         52.240002                      0.530935    0.236032   \n",
       "\n",
       "   Perceptions of corruption  Positive affect  Negative affect  \n",
       "0                   0.881686         0.517637         0.258195  \n",
       "1                   0.850035         0.583926         0.237092  \n",
       "2                   0.706766         0.618265         0.275324  \n",
       "3                   0.731109         0.611387         0.267175  \n",
       "4                   0.775620         0.710385         0.267919  "
      ]
     },
     "execution_count": 101,
     "metadata": {},
     "output_type": "execute_result"
    }
   ],
   "source": [
    "df.head()"
   ]
  },
  {
   "cell_type": "code",
   "execution_count": 102,
   "id": "6141096e-10e6-4d03-ab74-3e755e237fb5",
   "metadata": {},
   "outputs": [],
   "source": [
    "df_merged = pd.merge(left=df,right=region_cleaned, left_on='Country name',right_on='name', how='left').drop(['name'], axis=1)"
   ]
  },
  {
   "cell_type": "code",
   "execution_count": 103,
   "id": "32e3fd1f-4cdb-45fa-a42f-52360e3c1718",
   "metadata": {},
   "outputs": [],
   "source": [
    "df_merged= df_merged.rename(columns={\"Country name\":\"name\"})"
   ]
  },
  {
   "cell_type": "code",
   "execution_count": null,
   "id": "7bd2ca52-8b07-4545-8b27-18103bff8221",
   "metadata": {},
   "outputs": [],
   "source": []
  },
  {
   "cell_type": "code",
   "execution_count": null,
   "id": "56fd26a1-6236-41d2-b651-1bfdca43b535",
   "metadata": {},
   "outputs": [],
   "source": [
    "# Put the Dataframe description here\n",
    "# Variable explanations"
   ]
  },
  {
   "cell_type": "code",
   "execution_count": 63,
   "id": "252d21c9-1a04-496e-9d2e-bf41228755fb",
   "metadata": {},
   "outputs": [],
   "source": [
    "unique_countries = df_merged['name'].nunique()"
   ]
  },
  {
   "cell_type": "code",
   "execution_count": 105,
   "id": "21d8193e-c4a2-49a2-8c69-e607c3a6caaa",
   "metadata": {},
   "outputs": [
    {
     "data": {
      "text/plain": [
       "166"
      ]
     },
     "execution_count": 105,
     "metadata": {},
     "output_type": "execute_result"
    }
   ],
   "source": [
    "unique_countries"
   ]
  },
  {
   "cell_type": "code",
   "execution_count": 64,
   "id": "f5f09431-de60-46f6-a194-5c49127fcc63",
   "metadata": {},
   "outputs": [],
   "source": [
    "lst = [2014+i for i in range(0,6)]"
   ]
  },
  {
   "cell_type": "code",
   "execution_count": 106,
   "id": "56f3fae8-2506-4e86-ad1d-252f85827ea3",
   "metadata": {},
   "outputs": [
    {
     "data": {
      "text/plain": [
       "[2014, 2015, 2016, 2017, 2018, 2019]"
      ]
     },
     "execution_count": 106,
     "metadata": {},
     "output_type": "execute_result"
    }
   ],
   "source": [
    "lst"
   ]
  },
  {
   "cell_type": "code",
   "execution_count": 65,
   "id": "1ee9ad5d-4479-42d5-9ab8-f9c268367f2b",
   "metadata": {},
   "outputs": [
    {
     "data": {
      "text/html": [
       "<div>\n",
       "<style scoped>\n",
       "    .dataframe tbody tr th:only-of-type {\n",
       "        vertical-align: middle;\n",
       "    }\n",
       "\n",
       "    .dataframe tbody tr th {\n",
       "        vertical-align: top;\n",
       "    }\n",
       "\n",
       "    .dataframe thead th {\n",
       "        text-align: right;\n",
       "    }\n",
       "</style>\n",
       "<table border=\"1\" class=\"dataframe\">\n",
       "  <thead>\n",
       "    <tr style=\"text-align: right;\">\n",
       "      <th></th>\n",
       "      <th>name</th>\n",
       "      <th>year</th>\n",
       "      <th>Life Ladder</th>\n",
       "      <th>Log GDP per capita</th>\n",
       "      <th>Social support</th>\n",
       "      <th>Healthy life expectancy at birth</th>\n",
       "      <th>Freedom to make life choices</th>\n",
       "      <th>Generosity</th>\n",
       "      <th>Perceptions of corruption</th>\n",
       "      <th>Positive affect</th>\n",
       "      <th>Negative affect</th>\n",
       "      <th>region</th>\n",
       "      <th>sub-region</th>\n",
       "    </tr>\n",
       "  </thead>\n",
       "  <tbody>\n",
       "    <tr>\n",
       "      <th>6</th>\n",
       "      <td>Afghanistan</td>\n",
       "      <td>2014</td>\n",
       "      <td>3.130896</td>\n",
       "      <td>7.718354</td>\n",
       "      <td>0.525568</td>\n",
       "      <td>52.880001</td>\n",
       "      <td>0.508514</td>\n",
       "      <td>0.104013</td>\n",
       "      <td>0.871242</td>\n",
       "      <td>0.531691</td>\n",
       "      <td>0.374861</td>\n",
       "      <td>Asia</td>\n",
       "      <td>Southern Asia</td>\n",
       "    </tr>\n",
       "    <tr>\n",
       "      <th>7</th>\n",
       "      <td>Afghanistan</td>\n",
       "      <td>2015</td>\n",
       "      <td>3.982855</td>\n",
       "      <td>7.701992</td>\n",
       "      <td>0.528597</td>\n",
       "      <td>53.200001</td>\n",
       "      <td>0.388928</td>\n",
       "      <td>0.079864</td>\n",
       "      <td>0.880638</td>\n",
       "      <td>0.553553</td>\n",
       "      <td>0.339276</td>\n",
       "      <td>Asia</td>\n",
       "      <td>Southern Asia</td>\n",
       "    </tr>\n",
       "    <tr>\n",
       "      <th>8</th>\n",
       "      <td>Afghanistan</td>\n",
       "      <td>2016</td>\n",
       "      <td>4.220169</td>\n",
       "      <td>7.696560</td>\n",
       "      <td>0.559072</td>\n",
       "      <td>53.000000</td>\n",
       "      <td>0.522566</td>\n",
       "      <td>0.042265</td>\n",
       "      <td>0.793246</td>\n",
       "      <td>0.564953</td>\n",
       "      <td>0.348332</td>\n",
       "      <td>Asia</td>\n",
       "      <td>Southern Asia</td>\n",
       "    </tr>\n",
       "    <tr>\n",
       "      <th>9</th>\n",
       "      <td>Afghanistan</td>\n",
       "      <td>2017</td>\n",
       "      <td>2.661718</td>\n",
       "      <td>7.697381</td>\n",
       "      <td>0.490880</td>\n",
       "      <td>52.799999</td>\n",
       "      <td>0.427011</td>\n",
       "      <td>-0.121303</td>\n",
       "      <td>0.954393</td>\n",
       "      <td>0.496349</td>\n",
       "      <td>0.371326</td>\n",
       "      <td>Asia</td>\n",
       "      <td>Southern Asia</td>\n",
       "    </tr>\n",
       "    <tr>\n",
       "      <th>10</th>\n",
       "      <td>Afghanistan</td>\n",
       "      <td>2018</td>\n",
       "      <td>2.694303</td>\n",
       "      <td>7.691767</td>\n",
       "      <td>0.507516</td>\n",
       "      <td>52.599998</td>\n",
       "      <td>0.373536</td>\n",
       "      <td>-0.093828</td>\n",
       "      <td>0.927606</td>\n",
       "      <td>0.424125</td>\n",
       "      <td>0.404904</td>\n",
       "      <td>Asia</td>\n",
       "      <td>Southern Asia</td>\n",
       "    </tr>\n",
       "    <tr>\n",
       "      <th>...</th>\n",
       "      <td>...</td>\n",
       "      <td>...</td>\n",
       "      <td>...</td>\n",
       "      <td>...</td>\n",
       "      <td>...</td>\n",
       "      <td>...</td>\n",
       "      <td>...</td>\n",
       "      <td>...</td>\n",
       "      <td>...</td>\n",
       "      <td>...</td>\n",
       "      <td>...</td>\n",
       "      <td>...</td>\n",
       "      <td>...</td>\n",
       "    </tr>\n",
       "    <tr>\n",
       "      <th>1943</th>\n",
       "      <td>Zimbabwe</td>\n",
       "      <td>2015</td>\n",
       "      <td>3.703191</td>\n",
       "      <td>7.992339</td>\n",
       "      <td>0.735800</td>\n",
       "      <td>53.799999</td>\n",
       "      <td>0.667193</td>\n",
       "      <td>-0.123171</td>\n",
       "      <td>0.810457</td>\n",
       "      <td>0.715079</td>\n",
       "      <td>0.178861</td>\n",
       "      <td>Africa</td>\n",
       "      <td>Sub-Saharan Africa</td>\n",
       "    </tr>\n",
       "    <tr>\n",
       "      <th>1944</th>\n",
       "      <td>Zimbabwe</td>\n",
       "      <td>2016</td>\n",
       "      <td>3.735400</td>\n",
       "      <td>7.984372</td>\n",
       "      <td>0.768425</td>\n",
       "      <td>54.400002</td>\n",
       "      <td>0.732971</td>\n",
       "      <td>-0.094634</td>\n",
       "      <td>0.723612</td>\n",
       "      <td>0.737636</td>\n",
       "      <td>0.208555</td>\n",
       "      <td>Africa</td>\n",
       "      <td>Sub-Saharan Africa</td>\n",
       "    </tr>\n",
       "    <tr>\n",
       "      <th>1945</th>\n",
       "      <td>Zimbabwe</td>\n",
       "      <td>2017</td>\n",
       "      <td>3.638300</td>\n",
       "      <td>8.015738</td>\n",
       "      <td>0.754147</td>\n",
       "      <td>55.000000</td>\n",
       "      <td>0.752826</td>\n",
       "      <td>-0.097645</td>\n",
       "      <td>0.751208</td>\n",
       "      <td>0.806428</td>\n",
       "      <td>0.224051</td>\n",
       "      <td>Africa</td>\n",
       "      <td>Sub-Saharan Africa</td>\n",
       "    </tr>\n",
       "    <tr>\n",
       "      <th>1946</th>\n",
       "      <td>Zimbabwe</td>\n",
       "      <td>2018</td>\n",
       "      <td>3.616480</td>\n",
       "      <td>8.048798</td>\n",
       "      <td>0.775388</td>\n",
       "      <td>55.599998</td>\n",
       "      <td>0.762675</td>\n",
       "      <td>-0.068427</td>\n",
       "      <td>0.844209</td>\n",
       "      <td>0.710119</td>\n",
       "      <td>0.211726</td>\n",
       "      <td>Africa</td>\n",
       "      <td>Sub-Saharan Africa</td>\n",
       "    </tr>\n",
       "    <tr>\n",
       "      <th>1947</th>\n",
       "      <td>Zimbabwe</td>\n",
       "      <td>2019</td>\n",
       "      <td>2.693523</td>\n",
       "      <td>7.950132</td>\n",
       "      <td>0.759162</td>\n",
       "      <td>56.200001</td>\n",
       "      <td>0.631908</td>\n",
       "      <td>-0.063791</td>\n",
       "      <td>0.830652</td>\n",
       "      <td>0.716004</td>\n",
       "      <td>0.235354</td>\n",
       "      <td>Africa</td>\n",
       "      <td>Sub-Saharan Africa</td>\n",
       "    </tr>\n",
       "  </tbody>\n",
       "</table>\n",
       "<p>863 rows × 13 columns</p>\n",
       "</div>"
      ],
      "text/plain": [
       "             name  year  Life Ladder  Log GDP per capita  Social support  \\\n",
       "6     Afghanistan  2014     3.130896            7.718354        0.525568   \n",
       "7     Afghanistan  2015     3.982855            7.701992        0.528597   \n",
       "8     Afghanistan  2016     4.220169            7.696560        0.559072   \n",
       "9     Afghanistan  2017     2.661718            7.697381        0.490880   \n",
       "10    Afghanistan  2018     2.694303            7.691767        0.507516   \n",
       "...           ...   ...          ...                 ...             ...   \n",
       "1943     Zimbabwe  2015     3.703191            7.992339        0.735800   \n",
       "1944     Zimbabwe  2016     3.735400            7.984372        0.768425   \n",
       "1945     Zimbabwe  2017     3.638300            8.015738        0.754147   \n",
       "1946     Zimbabwe  2018     3.616480            8.048798        0.775388   \n",
       "1947     Zimbabwe  2019     2.693523            7.950132        0.759162   \n",
       "\n",
       "      Healthy life expectancy at birth  Freedom to make life choices  \\\n",
       "6                            52.880001                      0.508514   \n",
       "7                            53.200001                      0.388928   \n",
       "8                            53.000000                      0.522566   \n",
       "9                            52.799999                      0.427011   \n",
       "10                           52.599998                      0.373536   \n",
       "...                                ...                           ...   \n",
       "1943                         53.799999                      0.667193   \n",
       "1944                         54.400002                      0.732971   \n",
       "1945                         55.000000                      0.752826   \n",
       "1946                         55.599998                      0.762675   \n",
       "1947                         56.200001                      0.631908   \n",
       "\n",
       "      Generosity  Perceptions of corruption  Positive affect  Negative affect  \\\n",
       "6       0.104013                   0.871242         0.531691         0.374861   \n",
       "7       0.079864                   0.880638         0.553553         0.339276   \n",
       "8       0.042265                   0.793246         0.564953         0.348332   \n",
       "9      -0.121303                   0.954393         0.496349         0.371326   \n",
       "10     -0.093828                   0.927606         0.424125         0.404904   \n",
       "...          ...                        ...              ...              ...   \n",
       "1943   -0.123171                   0.810457         0.715079         0.178861   \n",
       "1944   -0.094634                   0.723612         0.737636         0.208555   \n",
       "1945   -0.097645                   0.751208         0.806428         0.224051   \n",
       "1946   -0.068427                   0.844209         0.710119         0.211726   \n",
       "1947   -0.063791                   0.830652         0.716004         0.235354   \n",
       "\n",
       "      region          sub-region  \n",
       "6       Asia       Southern Asia  \n",
       "7       Asia       Southern Asia  \n",
       "8       Asia       Southern Asia  \n",
       "9       Asia       Southern Asia  \n",
       "10      Asia       Southern Asia  \n",
       "...      ...                 ...  \n",
       "1943  Africa  Sub-Saharan Africa  \n",
       "1944  Africa  Sub-Saharan Africa  \n",
       "1945  Africa  Sub-Saharan Africa  \n",
       "1946  Africa  Sub-Saharan Africa  \n",
       "1947  Africa  Sub-Saharan Africa  \n",
       "\n",
       "[863 rows x 13 columns]"
      ]
     },
     "execution_count": 65,
     "metadata": {},
     "output_type": "execute_result"
    }
   ],
   "source": [
    "df_merged[df_merged.year.isin(lst)]"
   ]
  },
  {
   "cell_type": "code",
   "execution_count": 21,
   "id": "f2b309d4-96f9-4b80-9c21-a5ccbabfc6f1",
   "metadata": {},
   "outputs": [
    {
     "data": {
      "text/plain": [
       "[2014, 2015, 2016, 2017, 2018, 2019]"
      ]
     },
     "execution_count": 21,
     "metadata": {},
     "output_type": "execute_result"
    }
   ],
   "source": []
  },
  {
   "cell_type": "code",
   "execution_count": 41,
   "id": "c9f9c44a-41e2-4f1f-88ad-05588eab5f97",
   "metadata": {},
   "outputs": [],
   "source": []
  },
  {
   "cell_type": "code",
   "execution_count": 44,
   "id": "523babea-8825-448e-a85e-b43df29d93ae",
   "metadata": {},
   "outputs": [
    {
     "data": {
      "text/plain": [
       "166"
      ]
     },
     "execution_count": 44,
     "metadata": {},
     "output_type": "execute_result"
    }
   ],
   "source": []
  },
  {
   "cell_type": "code",
   "execution_count": 75,
   "id": "a86770e8-284d-47d0-b391-d386f838dd3b",
   "metadata": {},
   "outputs": [
    {
     "name": "stdout",
     "output_type": "stream",
     "text": [
      "{2014: -12.65, 2015: -13.86, 2016: -14.46, 2017: -11.45, 2018: -14.46, 2019: -13.25}\n"
     ]
    }
   ],
   "source": [
    "check_ratio = {i:round((df_merged[df_merged.year == i]['name'].nunique()/unique_countries)*100-100,2) for i in lst}\n",
    "print(check_ratio)"
   ]
  },
  {
   "cell_type": "code",
   "execution_count": 71,
   "id": "537ea190-2bdd-44f2-a7d1-c473f50951d6",
   "metadata": {},
   "outputs": [],
   "source": [
    "# We see that we have less than 15% of discrepancy regarding the total number of countries : the quality is good enough to work with it"
   ]
  },
  {
   "cell_type": "code",
   "execution_count": 86,
   "id": "1149e79a-aece-4ad2-86bf-89b9ddc3adfd",
   "metadata": {},
   "outputs": [],
   "source": [
    "region_vision = df_merged.groupby(['name','region','sub-region']).mean().reset_index()[['name','region','sub-region','Life Ladder']]"
   ]
  },
  {
   "cell_type": "code",
   "execution_count": 107,
   "id": "b0200031-b9d7-4441-8ad7-8b0fc0283e33",
   "metadata": {},
   "outputs": [
    {
     "data": {
      "text/html": [
       "<div>\n",
       "<style scoped>\n",
       "    .dataframe tbody tr th:only-of-type {\n",
       "        vertical-align: middle;\n",
       "    }\n",
       "\n",
       "    .dataframe tbody tr th {\n",
       "        vertical-align: top;\n",
       "    }\n",
       "\n",
       "    .dataframe thead th {\n",
       "        text-align: right;\n",
       "    }\n",
       "</style>\n",
       "<table border=\"1\" class=\"dataframe\">\n",
       "  <thead>\n",
       "    <tr style=\"text-align: right;\">\n",
       "      <th></th>\n",
       "      <th>name</th>\n",
       "      <th>region</th>\n",
       "      <th>sub-region</th>\n",
       "      <th>Life Ladder</th>\n",
       "    </tr>\n",
       "  </thead>\n",
       "  <tbody>\n",
       "    <tr>\n",
       "      <th>0</th>\n",
       "      <td>Afghanistan</td>\n",
       "      <td>Asia</td>\n",
       "      <td>Southern Asia</td>\n",
       "      <td>3.594628</td>\n",
       "    </tr>\n",
       "    <tr>\n",
       "      <th>1</th>\n",
       "      <td>Albania</td>\n",
       "      <td>Europe</td>\n",
       "      <td>Southern Europe</td>\n",
       "      <td>5.019427</td>\n",
       "    </tr>\n",
       "    <tr>\n",
       "      <th>2</th>\n",
       "      <td>Algeria</td>\n",
       "      <td>Africa</td>\n",
       "      <td>Northern Africa</td>\n",
       "      <td>5.389717</td>\n",
       "    </tr>\n",
       "    <tr>\n",
       "      <th>3</th>\n",
       "      <td>Angola</td>\n",
       "      <td>Africa</td>\n",
       "      <td>Sub-Saharan Africa</td>\n",
       "      <td>4.420299</td>\n",
       "    </tr>\n",
       "    <tr>\n",
       "      <th>4</th>\n",
       "      <td>Argentina</td>\n",
       "      <td>Americas</td>\n",
       "      <td>Latin America and the Caribbean</td>\n",
       "      <td>6.310166</td>\n",
       "    </tr>\n",
       "  </tbody>\n",
       "</table>\n",
       "</div>"
      ],
      "text/plain": [
       "          name    region                       sub-region  Life Ladder\n",
       "0  Afghanistan      Asia                    Southern Asia     3.594628\n",
       "1      Albania    Europe                  Southern Europe     5.019427\n",
       "2      Algeria    Africa                  Northern Africa     5.389717\n",
       "3       Angola    Africa               Sub-Saharan Africa     4.420299\n",
       "4    Argentina  Americas  Latin America and the Caribbean     6.310166"
      ]
     },
     "execution_count": 107,
     "metadata": {},
     "output_type": "execute_result"
    }
   ],
   "source": [
    "region_vision.head()"
   ]
  },
  {
   "cell_type": "code",
   "execution_count": null,
   "id": "fc3406f2-7d90-4e03-951f-0ed97a4fac79",
   "metadata": {},
   "outputs": [],
   "source": [
    "#Scatter plot to check the distribution by country and region"
   ]
  },
  {
   "cell_type": "code",
   "execution_count": null,
   "id": "5637bce6-c136-4a54-ba52-2c9201460d22",
   "metadata": {},
   "outputs": [],
   "source": [
    "# Let's check Europe region and break it down by subregion"
   ]
  },
  {
   "cell_type": "code",
   "execution_count": null,
   "id": "2ce265b1-5c68-4781-b0c9-10fe7e3540ec",
   "metadata": {},
   "outputs": [],
   "source": [
    "# Using a violin plot visualisation : we can observe that..."
   ]
  },
  {
   "cell_type": "code",
   "execution_count": null,
   "id": "888befd6-edf7-4ebe-9a83-7c6cd9e859fa",
   "metadata": {},
   "outputs": [],
   "source": []
  }
 ],
 "metadata": {
  "kernelspec": {
   "display_name": "Python 3 (ipykernel)",
   "language": "python",
   "name": "python3"
  },
  "language_info": {
   "codemirror_mode": {
    "name": "ipython",
    "version": 3
   },
   "file_extension": ".py",
   "mimetype": "text/x-python",
   "name": "python",
   "nbconvert_exporter": "python",
   "pygments_lexer": "ipython3",
   "version": "3.8.12"
  }
 },
 "nbformat": 4,
 "nbformat_minor": 5
}
